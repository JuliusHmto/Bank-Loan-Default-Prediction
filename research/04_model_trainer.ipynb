{
 "cells": [
  {
   "cell_type": "code",
   "execution_count": 1,
   "metadata": {},
   "outputs": [],
   "source": [
    "import os"
   ]
  },
  {
   "cell_type": "code",
   "execution_count": 2,
   "metadata": {},
   "outputs": [],
   "source": [
    "os.chdir(\"E:/dibimbing/Portfolio/Bank-Loan-Default-Prediction\")"
   ]
  },
  {
   "cell_type": "code",
   "execution_count": 3,
   "metadata": {},
   "outputs": [
    {
     "data": {
      "text/plain": [
       "'E:\\\\dibimbing\\\\Portfolio\\\\Bank-Loan-Default-Prediction'"
      ]
     },
     "execution_count": 3,
     "metadata": {},
     "output_type": "execute_result"
    }
   ],
   "source": [
    "%pwd"
   ]
  },
  {
   "cell_type": "code",
   "execution_count": 4,
   "metadata": {},
   "outputs": [],
   "source": [
    "from dataclasses import dataclass\n",
    "from pathlib import Path\n",
    "\n",
    "\n",
    "@dataclass(frozen=True)\n",
    "class ModelTrainerConfig:\n",
    "    root_dir: Path\n",
    "    x_train_data_path: Path\n",
    "    x_test_data_path: Path\n",
    "    y_train_data_path: Path\n",
    "    y_test_data_path: Path\n",
    "    model_name: str\n",
    "    learning_rate: float\n",
    "    n_estimators: int\n",
    "    max_depth: int\n",
    "    min_child_weight: int\n",
    "    gamma: int\n",
    "    subsample: float\n",
    "    colsample_bytree: float\n",
    "    objective: str\n",
    "    nthread: int\n",
    "    scale_pos_weight: int\n",
    "    seed: int\n",
    "    target_column: str"
   ]
  },
  {
   "cell_type": "code",
   "execution_count": 5,
   "metadata": {},
   "outputs": [],
   "source": [
    "from src.loanDefault.constants import *\n",
    "from src.loanDefault.utils.common import read_yaml, create_directories"
   ]
  },
  {
   "cell_type": "code",
   "execution_count": 6,
   "metadata": {},
   "outputs": [],
   "source": [
    "class ConfigurationManager:\n",
    "    def __init__(\n",
    "        self,\n",
    "        config_filepath = CONFIG_FILE_PATH,\n",
    "        params_filepath = PARAMS_FILE_PATH,\n",
    "        schema_filepath = SCHEMA_FILE_PATH):\n",
    "\n",
    "        self.config = read_yaml(config_filepath)\n",
    "        self.params = read_yaml(params_filepath)\n",
    "        self.schema = read_yaml(schema_filepath)\n",
    "\n",
    "        create_directories([self.config.artifacts_root])\n",
    "\n",
    "\n",
    "    def get_model_trainer_config(self) -> ModelTrainerConfig:\n",
    "        config = self.config.model_trainer\n",
    "        params = self.params.XGBoost\n",
    "        schema =  self.schema.TARGET_COLUMN\n",
    "\n",
    "        create_directories([config.root_dir])\n",
    "\n",
    "        model_trainer_config = ModelTrainerConfig(\n",
    "            root_dir=config.root_dir,\n",
    "            x_train_data_path = config.x_train_data_path,\n",
    "            x_test_data_path = config.x_test_data_path,\n",
    "            y_train_data_path = config.y_train_data_path,\n",
    "            y_test_data_path = config.y_test_data_path,\n",
    "            model_name = config.model_name,\n",
    "            learning_rate = params.learning_rate,\n",
    "            n_estimators = params.n_estimators,\n",
    "            max_depth = params.max_depth,\n",
    "            min_child_weight = params.min_child_weight,\n",
    "            gamma = params.gamma,\n",
    "            subsample = params.subsample,\n",
    "            colsample_bytree = params.colsample_bytree,\n",
    "            objective = params.objective,\n",
    "            nthread = params.nthread,\n",
    "            scale_pos_weight = params.scale_pos_weight,\n",
    "            seed = params.seed,\n",
    "            target_column = schema.Default\n",
    "            \n",
    "        )\n",
    "\n",
    "        return model_trainer_config"
   ]
  },
  {
   "cell_type": "code",
   "execution_count": 7,
   "metadata": {},
   "outputs": [],
   "source": [
    "import pandas as pd\n",
    "import os\n",
    "from src.loanDefault import logger\n",
    "from xgboost import XGBClassifier\n",
    "import joblib"
   ]
  },
  {
   "cell_type": "code",
   "execution_count": 8,
   "metadata": {},
   "outputs": [],
   "source": [
    "class ModelTrainer:\n",
    "    def __init__(self, config: ModelTrainerConfig):\n",
    "        self.config = config\n",
    "\n",
    "    \n",
    "    def train(self):\n",
    "        train_x = pd.read_csv(self.config.x_train_data_path)\n",
    "        train_y = pd.read_csv(self.config.y_train_data_path)\n",
    "        test_x = pd.read_csv(self.config.x_test_data_path)\n",
    "        test_y = pd.read_csv(self.config.y_test_data_path)\n",
    "\n",
    "        lr = XGBClassifier(\n",
    "                learning_rate=self.config.learning_rate,\n",
    "                n_estimators=self.config.n_estimators,\n",
    "                max_depth=self.config.max_depth,\n",
    "                min_child_weight=self.config.min_child_weight,\n",
    "                gamma=self.config.gamma,\n",
    "                subsample=self.config.subsample,\n",
    "                colsample_bytree=self.config.colsample_bytree,\n",
    "                objective=self.config.objective,\n",
    "                nthread=self.config.nthread,\n",
    "                scale_pos_weight=self.config.scale_pos_weight,\n",
    "                seed=self.config.seed\n",
    "            )\n",
    "        \n",
    "        lr.fit(train_x, train_y)\n",
    "\n",
    "        joblib.dump(lr, os.path.join(self.config.root_dir, self.config.model_name))\n",
    "\n"
   ]
  },
  {
   "cell_type": "code",
   "execution_count": 9,
   "metadata": {},
   "outputs": [
    {
     "name": "stdout",
     "output_type": "stream",
     "text": [
      "[2024-10-07 20:53:45,956: INFO: common: yaml file: config\\config.yaml loaded successfully]\n",
      "[2024-10-07 20:53:45,956: INFO: common: yaml file: params.yaml loaded successfully]\n",
      "[2024-10-07 20:53:45,972: INFO: common: yaml file: schema.yaml loaded successfully]\n",
      "[2024-10-07 20:53:45,974: INFO: common: created directory at: artifacts]\n",
      "[2024-10-07 20:53:45,975: INFO: common: created directory at: artifacts/model_trainer]\n"
     ]
    }
   ],
   "source": [
    "try:\n",
    "    config = ConfigurationManager()\n",
    "    model_trainer_config = config.get_model_trainer_config()\n",
    "    model_trainer_config = ModelTrainer(config=model_trainer_config)\n",
    "    model_trainer_config.train()\n",
    "except Exception as e:\n",
    "    raise e"
   ]
  }
 ],
 "metadata": {
  "kernelspec": {
   "display_name": "Python 3",
   "language": "python",
   "name": "python3"
  },
  "language_info": {
   "codemirror_mode": {
    "name": "ipython",
    "version": 3
   },
   "file_extension": ".py",
   "mimetype": "text/x-python",
   "name": "python",
   "nbconvert_exporter": "python",
   "pygments_lexer": "ipython3",
   "version": "3.12.7"
  }
 },
 "nbformat": 4,
 "nbformat_minor": 2
}
