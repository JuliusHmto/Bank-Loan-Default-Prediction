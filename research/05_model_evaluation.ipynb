{
 "cells": [
  {
   "cell_type": "code",
   "execution_count": 1,
   "metadata": {},
   "outputs": [],
   "source": [
    "import os"
   ]
  },
  {
   "cell_type": "code",
   "execution_count": 2,
   "metadata": {},
   "outputs": [],
   "source": [
    "os.chdir(\"E:/dibimbing/Portfolio/Bank-Loan-Default-Prediction\")"
   ]
  },
  {
   "cell_type": "code",
   "execution_count": 3,
   "metadata": {},
   "outputs": [
    {
     "data": {
      "text/plain": [
       "'E:\\\\dibimbing\\\\Portfolio\\\\Bank-Loan-Default-Prediction'"
      ]
     },
     "execution_count": 3,
     "metadata": {},
     "output_type": "execute_result"
    }
   ],
   "source": [
    "%pwd"
   ]
  },
  {
   "cell_type": "code",
   "execution_count": 4,
   "metadata": {},
   "outputs": [],
   "source": [
    "os.environ[\"MLFLOW_TRACKING_URI\"]=\"https://dagshub.com/JuliusHmto/Bank-Loan-Default-Prediction.mlflow\"\n",
    "os.environ[\"MLFLOW_TRACKING_USERNAME\"]=\"JuliusHmto\"\n",
    "os.environ[\"MLFLOW_TRACKING_PASSWORD\"]=\"64f6b16c2f95339023b7e5ba35bbdc160d13e30d\""
   ]
  },
  {
   "cell_type": "code",
   "execution_count": 5,
   "metadata": {},
   "outputs": [],
   "source": [
    "from dataclasses import dataclass\n",
    "from pathlib import Path\n",
    "\n",
    "\n",
    "@dataclass(frozen=True)\n",
    "class ModelEvaluationConfig:\n",
    "    root_dir: Path\n",
    "    x_test_data_path: Path\n",
    "    y_test_data_path: Path\n",
    "    model_path: Path\n",
    "    all_params: dict\n",
    "    metric_file_name: Path\n",
    "    target_column: str\n",
    "    mlflow_uri: str\n"
   ]
  },
  {
   "cell_type": "code",
   "execution_count": 6,
   "metadata": {},
   "outputs": [],
   "source": [
    "from src.loanDefault.constants import *\n",
    "from src.loanDefault.utils.common import read_yaml, create_directories, save_json"
   ]
  },
  {
   "cell_type": "code",
   "execution_count": 7,
   "metadata": {},
   "outputs": [],
   "source": [
    "class ConfigurationManager:\n",
    "    def __init__(\n",
    "        self,\n",
    "        config_filepath = CONFIG_FILE_PATH,\n",
    "        params_filepath = PARAMS_FILE_PATH,\n",
    "        schema_filepath = SCHEMA_FILE_PATH):\n",
    "\n",
    "        self.config = read_yaml(config_filepath)\n",
    "        self.params = read_yaml(params_filepath)\n",
    "        self.schema = read_yaml(schema_filepath)\n",
    "\n",
    "        create_directories([self.config.artifacts_root])\n",
    "\n",
    "    \n",
    "    def get_model_evaluation_config(self) -> ModelEvaluationConfig:\n",
    "        config = self.config.model_evaluation\n",
    "        params = self.params.XGBoost\n",
    "        schema =  self.schema.TARGET_COLUMN\n",
    "\n",
    "        create_directories([config.root_dir])\n",
    "\n",
    "        model_evaluation_config = ModelEvaluationConfig(\n",
    "            root_dir=config.root_dir,\n",
    "            x_test_data_path=config.x_test_data_path,\n",
    "            y_test_data_path=config.y_test_data_path,\n",
    "            model_path = config.model_path,\n",
    "            all_params=params,\n",
    "            metric_file_name = config.metric_file_name,\n",
    "            target_column = schema.Default,\n",
    "            mlflow_uri=\"https://dagshub.com/JuliusHmto/Bank-Loan-Default-Prediction.mlflow\",\n",
    "           \n",
    "        )\n",
    "\n",
    "        return model_evaluation_config\n"
   ]
  },
  {
   "cell_type": "code",
   "execution_count": 8,
   "metadata": {},
   "outputs": [],
   "source": [
    "import os\n",
    "import pandas as pd\n",
    "from sklearn.metrics import confusion_matrix, classification_report\n",
    "from urllib.parse import urlparse\n",
    "import mlflow\n",
    "import mlflow.sklearn\n",
    "import numpy as np\n",
    "import joblib"
   ]
  },
  {
   "cell_type": "code",
   "execution_count": 9,
   "metadata": {},
   "outputs": [],
   "source": [
    "class ModelEvaluation:\n",
    "    def __init__(self, config: ModelEvaluationConfig):\n",
    "        self.config = config\n",
    "\n",
    "    def eval_metrics(self, actual, pred):\n",
    "        # Compute confusion matrix and classification report\n",
    "        conf_matrix = confusion_matrix(actual, pred)\n",
    "        class_report = classification_report(actual, pred, output_dict=True)\n",
    "\n",
    "        return conf_matrix, class_report\n",
    "\n",
    "    def log_into_mlflow(self):\n",
    "        test_x = pd.read_csv(self.config.x_test_data_path)\n",
    "        test_y = pd.read_csv(self.config.y_test_data_path)\n",
    "\n",
    "        model = joblib.load(self.config.model_path)\n",
    "\n",
    "        mlflow.set_registry_uri(self.config.mlflow_uri)\n",
    "        tracking_url_type_store = urlparse(mlflow.get_tracking_uri()).scheme\n",
    "\n",
    "        with mlflow.start_run():\n",
    "            predicted_classes = model.predict(test_x)\n",
    "\n",
    "            # Evaluate metrics for classification\n",
    "            conf_matrix, class_report = self.eval_metrics(test_y, predicted_classes)\n",
    "\n",
    "            # Save classification report as JSON using save_json\n",
    "            metrics_file_path = Path(self.config.metric_file_name)\n",
    "            save_json(path=metrics_file_path, data=class_report)\n",
    "\n",
    "            # Log the classification report metrics into mlflow\n",
    "            for label, metrics in class_report.items():\n",
    "                if isinstance(metrics, dict):  # Skip the 'accuracy' entry which is not a dict\n",
    "                    mlflow.log_metric(f'{label}_precision', metrics['precision'])\n",
    "                    mlflow.log_metric(f'{label}_recall', metrics['recall'])\n",
    "                    mlflow.log_metric(f'{label}_f1-score', metrics['f1-score'])\n",
    "                    mlflow.log_metric(f'{label}_support', metrics['support'])\n",
    "\n",
    "            # Log the overall accuracy\n",
    "            mlflow.log_metric('accuracy', class_report['accuracy'])\n",
    "\n",
    "            mlflow.log_params(self.config.all_params)\n",
    "\n",
    "            # Model registry does not work with file store\n",
    "            if tracking_url_type_store != \"file\":\n",
    "                mlflow.sklearn.log_model(model, \"model\", registered_model_name=\"XGBModel\")\n",
    "            else:\n",
    "                mlflow.sklearn.log_model(model, \"model\")"
   ]
  },
  {
   "cell_type": "code",
   "execution_count": 10,
   "metadata": {},
   "outputs": [
    {
     "name": "stdout",
     "output_type": "stream",
     "text": [
      "[2024-10-08 14:40:41,684: INFO: common: yaml file: config\\config.yaml loaded successfully]\n",
      "[2024-10-08 14:40:41,687: INFO: common: yaml file: params.yaml loaded successfully]\n",
      "[2024-10-08 14:40:41,691: INFO: common: yaml file: schema.yaml loaded successfully]\n",
      "[2024-10-08 14:40:41,693: INFO: common: created directory at: artifacts]\n",
      "[2024-10-08 14:40:41,694: INFO: common: created directory at: artifacts/model_evaluation]\n",
      "[2024-10-08 14:40:48,407: INFO: common: json file saved at: artifacts\\model_evaluation\\metrics.json]\n"
     ]
    },
    {
     "name": "stderr",
     "output_type": "stream",
     "text": [
      "2024/10/08 14:40:58 WARNING mlflow.models.model: Model logged without a signature and input example. Please set `input_example` parameter when logging the model to auto infer the model signature.\n",
      "Registered model 'XGBModel' already exists. Creating a new version of this model...\n",
      "2024/10/08 14:41:06 INFO mlflow.store.model_registry.abstract_store: Waiting up to 300 seconds for model version to finish creation. Model name: XGBModel, version 2\n",
      "Created version '2' of model 'XGBModel'.\n",
      "2024/10/08 14:41:07 INFO mlflow.tracking._tracking_service.client: 🏃 View run trusting-lamb-104 at: https://dagshub.com/JuliusHmto/Bank-Loan-Default-Prediction.mlflow/#/experiments/0/runs/b9ca3ba88160413eb4cedd3b0f00ada1.\n",
      "2024/10/08 14:41:07 INFO mlflow.tracking._tracking_service.client: 🧪 View experiment at: https://dagshub.com/JuliusHmto/Bank-Loan-Default-Prediction.mlflow/#/experiments/0.\n"
     ]
    }
   ],
   "source": [
    "try:\n",
    "    config = ConfigurationManager()\n",
    "    model_evaluation_config = config.get_model_evaluation_config()\n",
    "    model_evaluation_config = ModelEvaluation(config=model_evaluation_config)\n",
    "    model_evaluation_config.log_into_mlflow()\n",
    "except Exception as e:\n",
    "    raise e"
   ]
  }
 ],
 "metadata": {
  "kernelspec": {
   "display_name": "Python 3",
   "language": "python",
   "name": "python3"
  },
  "language_info": {
   "codemirror_mode": {
    "name": "ipython",
    "version": 3
   },
   "file_extension": ".py",
   "mimetype": "text/x-python",
   "name": "python",
   "nbconvert_exporter": "python",
   "pygments_lexer": "ipython3",
   "version": "3.12.7"
  }
 },
 "nbformat": 4,
 "nbformat_minor": 2
}
