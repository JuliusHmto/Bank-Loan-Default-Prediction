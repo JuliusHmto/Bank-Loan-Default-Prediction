{
 "cells": [
  {
   "cell_type": "markdown",
   "metadata": {},
   "source": [
    "# Import & Read"
   ]
  },
  {
   "cell_type": "code",
   "execution_count": 1,
   "metadata": {},
   "outputs": [],
   "source": [
    "import os"
   ]
  },
  {
   "cell_type": "code",
   "execution_count": 2,
   "metadata": {},
   "outputs": [],
   "source": [
    "os.chdir(\"E:/dibimbing/Portfolio/Bank-Loan-Default-Prediction\")"
   ]
  },
  {
   "cell_type": "code",
   "execution_count": 3,
   "metadata": {},
   "outputs": [
    {
     "data": {
      "text/plain": [
       "'E:\\\\dibimbing\\\\Portfolio\\\\Bank-Loan-Default-Prediction'"
      ]
     },
     "execution_count": 3,
     "metadata": {},
     "output_type": "execute_result"
    }
   ],
   "source": [
    "%pwd"
   ]
  },
  {
   "cell_type": "code",
   "execution_count": 4,
   "metadata": {},
   "outputs": [],
   "source": [
    "import pandas as pd\n",
    "import numpy as np"
   ]
  },
  {
   "cell_type": "code",
   "execution_count": 5,
   "metadata": {},
   "outputs": [
    {
     "name": "stderr",
     "output_type": "stream",
     "text": [
      "C:\\Users\\juliu\\AppData\\Local\\Temp\\ipykernel_30276\\326183299.py:1: DtypeWarning: Columns (9) have mixed types. Specify dtype option on import or set low_memory=False.\n",
      "  loans = pd.read_csv(\"artifacts/data_ingestion/SBAnational.csv\")\n"
     ]
    },
    {
     "data": {
      "text/html": [
       "<div>\n",
       "<style scoped>\n",
       "    .dataframe tbody tr th:only-of-type {\n",
       "        vertical-align: middle;\n",
       "    }\n",
       "\n",
       "    .dataframe tbody tr th {\n",
       "        vertical-align: top;\n",
       "    }\n",
       "\n",
       "    .dataframe thead th {\n",
       "        text-align: right;\n",
       "    }\n",
       "</style>\n",
       "<table border=\"1\" class=\"dataframe\">\n",
       "  <thead>\n",
       "    <tr style=\"text-align: right;\">\n",
       "      <th></th>\n",
       "      <th>LoanNr_ChkDgt</th>\n",
       "      <th>Name</th>\n",
       "      <th>City</th>\n",
       "      <th>State</th>\n",
       "      <th>Zip</th>\n",
       "      <th>Bank</th>\n",
       "      <th>BankState</th>\n",
       "      <th>NAICS</th>\n",
       "      <th>ApprovalDate</th>\n",
       "      <th>ApprovalFY</th>\n",
       "      <th>...</th>\n",
       "      <th>RevLineCr</th>\n",
       "      <th>LowDoc</th>\n",
       "      <th>ChgOffDate</th>\n",
       "      <th>DisbursementDate</th>\n",
       "      <th>DisbursementGross</th>\n",
       "      <th>BalanceGross</th>\n",
       "      <th>MIS_Status</th>\n",
       "      <th>ChgOffPrinGr</th>\n",
       "      <th>GrAppv</th>\n",
       "      <th>SBA_Appv</th>\n",
       "    </tr>\n",
       "  </thead>\n",
       "  <tbody>\n",
       "    <tr>\n",
       "      <th>0</th>\n",
       "      <td>1000014003</td>\n",
       "      <td>ABC HOBBYCRAFT</td>\n",
       "      <td>EVANSVILLE</td>\n",
       "      <td>IN</td>\n",
       "      <td>47711</td>\n",
       "      <td>FIFTH THIRD BANK</td>\n",
       "      <td>OH</td>\n",
       "      <td>451120</td>\n",
       "      <td>28-Feb-97</td>\n",
       "      <td>1997</td>\n",
       "      <td>...</td>\n",
       "      <td>N</td>\n",
       "      <td>Y</td>\n",
       "      <td>NaN</td>\n",
       "      <td>28-Feb-99</td>\n",
       "      <td>$60,000.00</td>\n",
       "      <td>$0.00</td>\n",
       "      <td>P I F</td>\n",
       "      <td>$0.00</td>\n",
       "      <td>$60,000.00</td>\n",
       "      <td>$48,000.00</td>\n",
       "    </tr>\n",
       "    <tr>\n",
       "      <th>1</th>\n",
       "      <td>1000024006</td>\n",
       "      <td>LANDMARK BAR &amp; GRILLE (THE)</td>\n",
       "      <td>NEW PARIS</td>\n",
       "      <td>IN</td>\n",
       "      <td>46526</td>\n",
       "      <td>1ST SOURCE BANK</td>\n",
       "      <td>IN</td>\n",
       "      <td>722410</td>\n",
       "      <td>28-Feb-97</td>\n",
       "      <td>1997</td>\n",
       "      <td>...</td>\n",
       "      <td>N</td>\n",
       "      <td>Y</td>\n",
       "      <td>NaN</td>\n",
       "      <td>31-May-97</td>\n",
       "      <td>$40,000.00</td>\n",
       "      <td>$0.00</td>\n",
       "      <td>P I F</td>\n",
       "      <td>$0.00</td>\n",
       "      <td>$40,000.00</td>\n",
       "      <td>$32,000.00</td>\n",
       "    </tr>\n",
       "    <tr>\n",
       "      <th>2</th>\n",
       "      <td>1000034009</td>\n",
       "      <td>WHITLOCK DDS, TODD M.</td>\n",
       "      <td>BLOOMINGTON</td>\n",
       "      <td>IN</td>\n",
       "      <td>47401</td>\n",
       "      <td>GRANT COUNTY STATE BANK</td>\n",
       "      <td>IN</td>\n",
       "      <td>621210</td>\n",
       "      <td>28-Feb-97</td>\n",
       "      <td>1997</td>\n",
       "      <td>...</td>\n",
       "      <td>N</td>\n",
       "      <td>N</td>\n",
       "      <td>NaN</td>\n",
       "      <td>31-Dec-97</td>\n",
       "      <td>$287,000.00</td>\n",
       "      <td>$0.00</td>\n",
       "      <td>P I F</td>\n",
       "      <td>$0.00</td>\n",
       "      <td>$287,000.00</td>\n",
       "      <td>$215,250.00</td>\n",
       "    </tr>\n",
       "    <tr>\n",
       "      <th>3</th>\n",
       "      <td>1000044001</td>\n",
       "      <td>BIG BUCKS PAWN &amp; JEWELRY, LLC</td>\n",
       "      <td>BROKEN ARROW</td>\n",
       "      <td>OK</td>\n",
       "      <td>74012</td>\n",
       "      <td>1ST NATL BK &amp; TR CO OF BROKEN</td>\n",
       "      <td>OK</td>\n",
       "      <td>0</td>\n",
       "      <td>28-Feb-97</td>\n",
       "      <td>1997</td>\n",
       "      <td>...</td>\n",
       "      <td>N</td>\n",
       "      <td>Y</td>\n",
       "      <td>NaN</td>\n",
       "      <td>30-Jun-97</td>\n",
       "      <td>$35,000.00</td>\n",
       "      <td>$0.00</td>\n",
       "      <td>P I F</td>\n",
       "      <td>$0.00</td>\n",
       "      <td>$35,000.00</td>\n",
       "      <td>$28,000.00</td>\n",
       "    </tr>\n",
       "    <tr>\n",
       "      <th>4</th>\n",
       "      <td>1000054004</td>\n",
       "      <td>ANASTASIA CONFECTIONS, INC.</td>\n",
       "      <td>ORLANDO</td>\n",
       "      <td>FL</td>\n",
       "      <td>32801</td>\n",
       "      <td>FLORIDA BUS. DEVEL CORP</td>\n",
       "      <td>FL</td>\n",
       "      <td>0</td>\n",
       "      <td>28-Feb-97</td>\n",
       "      <td>1997</td>\n",
       "      <td>...</td>\n",
       "      <td>N</td>\n",
       "      <td>N</td>\n",
       "      <td>NaN</td>\n",
       "      <td>14-May-97</td>\n",
       "      <td>$229,000.00</td>\n",
       "      <td>$0.00</td>\n",
       "      <td>P I F</td>\n",
       "      <td>$0.00</td>\n",
       "      <td>$229,000.00</td>\n",
       "      <td>$229,000.00</td>\n",
       "    </tr>\n",
       "  </tbody>\n",
       "</table>\n",
       "<p>5 rows × 27 columns</p>\n",
       "</div>"
      ],
      "text/plain": [
       "   LoanNr_ChkDgt                           Name          City State    Zip  \\\n",
       "0     1000014003                 ABC HOBBYCRAFT    EVANSVILLE    IN  47711   \n",
       "1     1000024006    LANDMARK BAR & GRILLE (THE)     NEW PARIS    IN  46526   \n",
       "2     1000034009          WHITLOCK DDS, TODD M.   BLOOMINGTON    IN  47401   \n",
       "3     1000044001  BIG BUCKS PAWN & JEWELRY, LLC  BROKEN ARROW    OK  74012   \n",
       "4     1000054004    ANASTASIA CONFECTIONS, INC.       ORLANDO    FL  32801   \n",
       "\n",
       "                            Bank BankState   NAICS ApprovalDate ApprovalFY  \\\n",
       "0               FIFTH THIRD BANK        OH  451120    28-Feb-97       1997   \n",
       "1                1ST SOURCE BANK        IN  722410    28-Feb-97       1997   \n",
       "2        GRANT COUNTY STATE BANK        IN  621210    28-Feb-97       1997   \n",
       "3  1ST NATL BK & TR CO OF BROKEN        OK       0    28-Feb-97       1997   \n",
       "4        FLORIDA BUS. DEVEL CORP        FL       0    28-Feb-97       1997   \n",
       "\n",
       "   ...  RevLineCr  LowDoc  ChgOffDate  DisbursementDate  DisbursementGross  \\\n",
       "0  ...          N       Y         NaN         28-Feb-99        $60,000.00    \n",
       "1  ...          N       Y         NaN         31-May-97        $40,000.00    \n",
       "2  ...          N       N         NaN         31-Dec-97       $287,000.00    \n",
       "3  ...          N       Y         NaN         30-Jun-97        $35,000.00    \n",
       "4  ...          N       N         NaN         14-May-97       $229,000.00    \n",
       "\n",
       "   BalanceGross  MIS_Status ChgOffPrinGr        GrAppv      SBA_Appv  \n",
       "0        $0.00        P I F       $0.00    $60,000.00    $48,000.00   \n",
       "1        $0.00        P I F       $0.00    $40,000.00    $32,000.00   \n",
       "2        $0.00        P I F       $0.00   $287,000.00   $215,250.00   \n",
       "3        $0.00        P I F       $0.00    $35,000.00    $28,000.00   \n",
       "4        $0.00        P I F       $0.00   $229,000.00   $229,000.00   \n",
       "\n",
       "[5 rows x 27 columns]"
      ]
     },
     "execution_count": 5,
     "metadata": {},
     "output_type": "execute_result"
    }
   ],
   "source": [
    "loans = pd.read_csv(\"artifacts/data_ingestion/SBAnational.csv\")\n",
    "loans.head()"
   ]
  },
  {
   "cell_type": "code",
   "execution_count": 6,
   "metadata": {},
   "outputs": [
    {
     "name": "stdout",
     "output_type": "stream",
     "text": [
      "<class 'pandas.core.frame.DataFrame'>\n",
      "RangeIndex: 899164 entries, 0 to 899163\n",
      "Data columns (total 27 columns):\n",
      " #   Column             Non-Null Count   Dtype  \n",
      "---  ------             --------------   -----  \n",
      " 0   LoanNr_ChkDgt      899164 non-null  int64  \n",
      " 1   Name               899150 non-null  object \n",
      " 2   City               899134 non-null  object \n",
      " 3   State              899150 non-null  object \n",
      " 4   Zip                899164 non-null  int64  \n",
      " 5   Bank               897605 non-null  object \n",
      " 6   BankState          897598 non-null  object \n",
      " 7   NAICS              899164 non-null  int64  \n",
      " 8   ApprovalDate       899164 non-null  object \n",
      " 9   ApprovalFY         899164 non-null  object \n",
      " 10  Term               899164 non-null  int64  \n",
      " 11  NoEmp              899164 non-null  int64  \n",
      " 12  NewExist           899028 non-null  float64\n",
      " 13  CreateJob          899164 non-null  int64  \n",
      " 14  RetainedJob        899164 non-null  int64  \n",
      " 15  FranchiseCode      899164 non-null  int64  \n",
      " 16  UrbanRural         899164 non-null  int64  \n",
      " 17  RevLineCr          894636 non-null  object \n",
      " 18  LowDoc             896582 non-null  object \n",
      " 19  ChgOffDate         162699 non-null  object \n",
      " 20  DisbursementDate   896796 non-null  object \n",
      " 21  DisbursementGross  899164 non-null  object \n",
      " 22  BalanceGross       899164 non-null  object \n",
      " 23  MIS_Status         897167 non-null  object \n",
      " 24  ChgOffPrinGr       899164 non-null  object \n",
      " 25  GrAppv             899164 non-null  object \n",
      " 26  SBA_Appv           899164 non-null  object \n",
      "dtypes: float64(1), int64(9), object(17)\n",
      "memory usage: 185.2+ MB\n"
     ]
    }
   ],
   "source": [
    "loans.info()"
   ]
  },
  {
   "cell_type": "markdown",
   "metadata": {},
   "source": [
    "# Cleaning"
   ]
  },
  {
   "cell_type": "code",
   "execution_count": 7,
   "metadata": {},
   "outputs": [],
   "source": [
    "# Drop null values from specified columns\n",
    "loans.dropna(subset=['Name', 'City', 'State', 'BankState', 'NewExist','RevLineCr', 'LowDoc', 'DisbursementDate', 'MIS_Status'], inplace=True)"
   ]
  },
  {
   "cell_type": "code",
   "execution_count": 8,
   "metadata": {},
   "outputs": [
    {
     "name": "stdout",
     "output_type": "stream",
     "text": [
      "<class 'pandas.core.frame.DataFrame'>\n",
      "Index: 886240 entries, 0 to 899163\n",
      "Data columns (total 27 columns):\n",
      " #   Column             Non-Null Count   Dtype  \n",
      "---  ------             --------------   -----  \n",
      " 0   LoanNr_ChkDgt      886240 non-null  int64  \n",
      " 1   Name               886240 non-null  object \n",
      " 2   City               886240 non-null  object \n",
      " 3   State              886240 non-null  object \n",
      " 4   Zip                886240 non-null  int64  \n",
      " 5   Bank               886240 non-null  object \n",
      " 6   BankState          886240 non-null  object \n",
      " 7   NAICS              886240 non-null  int64  \n",
      " 8   ApprovalDate       886240 non-null  object \n",
      " 9   ApprovalFY         886240 non-null  object \n",
      " 10  Term               886240 non-null  int64  \n",
      " 11  NoEmp              886240 non-null  int64  \n",
      " 12  NewExist           886240 non-null  float64\n",
      " 13  CreateJob          886240 non-null  int64  \n",
      " 14  RetainedJob        886240 non-null  int64  \n",
      " 15  FranchiseCode      886240 non-null  int64  \n",
      " 16  UrbanRural         886240 non-null  int64  \n",
      " 17  RevLineCr          886240 non-null  object \n",
      " 18  LowDoc             886240 non-null  object \n",
      " 19  ChgOffDate         160871 non-null  object \n",
      " 20  DisbursementDate   886240 non-null  object \n",
      " 21  DisbursementGross  886240 non-null  object \n",
      " 22  BalanceGross       886240 non-null  object \n",
      " 23  MIS_Status         886240 non-null  object \n",
      " 24  ChgOffPrinGr       886240 non-null  object \n",
      " 25  GrAppv             886240 non-null  object \n",
      " 26  SBA_Appv           886240 non-null  object \n",
      "dtypes: float64(1), int64(9), object(17)\n",
      "memory usage: 189.3+ MB\n"
     ]
    }
   ],
   "source": [
    "loans.info()"
   ]
  },
  {
   "cell_type": "code",
   "execution_count": 9,
   "metadata": {},
   "outputs": [],
   "source": [
    "# Define a function to clean the string from integer data\n",
    "def clean_data_str(value):\n",
    "    if isinstance(value, str):\n",
    "        return value.replace('A', '')\n",
    "    return value\n",
    "\n",
    "loans['ApprovalFY'] = loans['ApprovalFY'].apply(clean_data_str).astype('int64')"
   ]
  },
  {
   "cell_type": "code",
   "execution_count": 10,
   "metadata": {},
   "outputs": [],
   "source": [
    "# Remove '$', commas, and extra spaces from records in columns with dollar values that should be floats\n",
    "\n",
    "loans[['DisbursementGross', 'BalanceGross', 'ChgOffPrinGr', 'GrAppv', 'SBA_Appv']] = \\\n",
    "loans[['DisbursementGross', 'BalanceGross', 'ChgOffPrinGr', 'GrAppv', 'SBA_Appv']].map(lambda x: x.strip().replace('$', '').replace(',', ''))"
   ]
  },
  {
   "cell_type": "code",
   "execution_count": 11,
   "metadata": {},
   "outputs": [],
   "source": [
    "# Reconfigure remaining data into appropriate data types.\n",
    "# Here i change data types of Zip, NewExist, UrbanRural and all currency types to the appropriate data types.\n",
    "loans = loans.astype({\n",
    "    'Zip': 'str',\n",
    "    'NewExist': 'int64',\n",
    "    'UrbanRural': 'str',\n",
    "    'DisbursementGross' : 'float64',\n",
    "    'BalanceGross' : 'float64',\n",
    "    'ChgOffPrinGr' : 'float64',\n",
    "    'GrAppv' : 'float64',\n",
    "    'SBA_Appv' : 'float64'\n",
    "    })"
   ]
  },
  {
   "cell_type": "code",
   "execution_count": 12,
   "metadata": {},
   "outputs": [],
   "source": [
    "# Mapping dictionary for NAICS codes\n",
    "naics_mapping = {\n",
    "    '11': 'Agri/For/Fish/Hunt', # 'Agriculture, forestry, fishing and hunting',\n",
    "    '21': 'Min/Quar/Oil/Gas_ext', # 'Mining, quarrying, and oil and gas extraction',\n",
    "    '22': 'Utilities', # 'Utilities',\n",
    "    '23': 'Construction', # 'Construction',\n",
    "    '31': 'Manufacturing', # 'Manufacturing',\n",
    "    '32': 'Manufacturing', # 'Manufacturing',\n",
    "    '33': 'Manufacturing', # 'Manufacturing',\n",
    "    '42': 'Wholesale_trade', # 'Wholesale trade',\n",
    "    '44': 'Retail_trade', # 'Retail trade',\n",
    "    '45': 'Retail_trade', # 'Retail trade',\n",
    "    '48': 'Transp/WareH', # 'Transportation and warehousing',\n",
    "    '49': 'Transp/WareH', # 'Transportation and warehousing',\n",
    "    '51': 'Info', # 'Information',\n",
    "    '52': 'Finance/Insurance', # 'Finance and insurance',\n",
    "    '53': 'Real_est/Rental/Lease', # 'Real estate and rental and leasing',\n",
    "    '54': 'Prof/Science/Tech', # 'Professional, scientific, and technical services',\n",
    "    '55': 'Mgmt_comp_entp', # 'Management of companies and enterprises',\n",
    "    '56': 'Admin/Supp/WasteM/Remed', # 'Administrative and support and waste management and remediation services',\n",
    "    '61': 'Edu', # 'Educational services',\n",
    "    '62': 'Health/Social', # 'Health care and social assistance',\n",
    "    '71': 'Art/Entr/Rec', # 'Arts, entertainment, and recreation',\n",
    "    '72': 'Accom/Food', # 'Accommodation and food services',\n",
    "    '81': 'Other', # 'Other services (except public administration)',\n",
    "    '92': 'Pub_Admin', # 'Public administration'\n",
    "}\n",
    "\n",
    "# Function to map NAICS codes to sectors (created two, one for Industry Sector text and one for Industry Code)\n",
    "loans['Industry'] = loans['NAICS'].astype('str').apply(lambda x: x[:2])\n",
    "loans['IndustryCode'] = loans['NAICS'].astype('str').apply(lambda x: x[:2])\n",
    "\n",
    "# map Industry code based on mapping\n",
    "loans['Industry'] = loans['Industry'].map(naics_mapping)\n",
    "\n",
    "# Remove records where Industry is NaN (NAICS code was a 0)\n",
    "loans.dropna(subset=['Industry'], inplace=True)\n"
   ]
  },
  {
   "cell_type": "code",
   "execution_count": 13,
   "metadata": {},
   "outputs": [
    {
     "data": {
      "text/html": [
       "<div>\n",
       "<style scoped>\n",
       "    .dataframe tbody tr th:only-of-type {\n",
       "        vertical-align: middle;\n",
       "    }\n",
       "\n",
       "    .dataframe tbody tr th {\n",
       "        vertical-align: top;\n",
       "    }\n",
       "\n",
       "    .dataframe thead th {\n",
       "        text-align: right;\n",
       "    }\n",
       "</style>\n",
       "<table border=\"1\" class=\"dataframe\">\n",
       "  <thead>\n",
       "    <tr style=\"text-align: right;\">\n",
       "      <th></th>\n",
       "      <th>NAICS</th>\n",
       "      <th>Industry</th>\n",
       "    </tr>\n",
       "  </thead>\n",
       "  <tbody>\n",
       "    <tr>\n",
       "      <th>0</th>\n",
       "      <td>451120</td>\n",
       "      <td>Retail_trade</td>\n",
       "    </tr>\n",
       "    <tr>\n",
       "      <th>1</th>\n",
       "      <td>722410</td>\n",
       "      <td>Accom/Food</td>\n",
       "    </tr>\n",
       "    <tr>\n",
       "      <th>2</th>\n",
       "      <td>621210</td>\n",
       "      <td>Health/Social</td>\n",
       "    </tr>\n",
       "    <tr>\n",
       "      <th>5</th>\n",
       "      <td>332721</td>\n",
       "      <td>Manufacturing</td>\n",
       "    </tr>\n",
       "    <tr>\n",
       "      <th>7</th>\n",
       "      <td>811118</td>\n",
       "      <td>Other</td>\n",
       "    </tr>\n",
       "  </tbody>\n",
       "</table>\n",
       "</div>"
      ],
      "text/plain": [
       "    NAICS       Industry\n",
       "0  451120   Retail_trade\n",
       "1  722410     Accom/Food\n",
       "2  621210  Health/Social\n",
       "5  332721  Manufacturing\n",
       "7  811118          Other"
      ]
     },
     "execution_count": 13,
     "metadata": {},
     "output_type": "execute_result"
    }
   ],
   "source": [
    "loans[['NAICS','Industry']].head()"
   ]
  },
  {
   "cell_type": "code",
   "execution_count": 14,
   "metadata": {},
   "outputs": [],
   "source": [
    "loans = loans[(loans['NewExist'] == 1) | (loans['NewExist'] == 2)]\n",
    "\n",
    "# I then create a new column where NewBusiness = 0 is an existing business, and NewBusiness = 1 is a new business\n",
    "loans.loc[(loans['NewExist'] == 1), 'NewBusiness'] = 0\n",
    "loans.loc[(loans['NewExist'] == 2), 'NewBusiness'] = 1"
   ]
  },
  {
   "cell_type": "code",
   "execution_count": 15,
   "metadata": {},
   "outputs": [
    {
     "name": "stdout",
     "output_type": "stream",
     "text": [
      "['N' 'Y' '0' 'T' '`' ',' '1' 'C' '2' 'R' '7' 'A' '-' 'Q']\n",
      "['Y' 'N' 'C' '1' 'S' 'R' 'A' '0']\n"
     ]
    }
   ],
   "source": [
    "print(loans['RevLineCr'].unique())\n",
    "print(loans['LowDoc'].unique())"
   ]
  },
  {
   "cell_type": "code",
   "execution_count": 16,
   "metadata": {},
   "outputs": [
    {
     "name": "stdout",
     "output_type": "stream",
     "text": [
      "[0 1]\n",
      "[1 0]\n"
     ]
    }
   ],
   "source": [
    "# Temove records where RevLineCr != Y or N and LowDoc != Y or N\n",
    "loans = loans[(loans['RevLineCr'] == 'Y') | (loans['RevLineCr'] == 'N')]\n",
    "loans = loans[(loans['LowDoc'] == 'Y') | (loans['LowDoc'] == 'N')]\n",
    "\n",
    "# Transform data to int\n",
    "pd.set_option('future.no_silent_downcasting', True) #future-proof\n",
    "loans['RevLineCr'] = loans['RevLineCr'].replace(['N', 'Y'], [0, 1])\n",
    "loans['LowDoc'] = loans['LowDoc'].replace(['N' ,'Y'],[0,1])\n",
    "\n",
    "print(loans['RevLineCr'].unique())\n",
    "print(loans['LowDoc'].unique())"
   ]
  },
  {
   "cell_type": "code",
   "execution_count": 17,
   "metadata": {},
   "outputs": [],
   "source": [
    "# Created a flag for FranchiseCode = IsFranchise\n",
    "loans.loc[(loans['FranchiseCode'] <= 1), 'IsFranchise'] = 0\n",
    "loans.loc[(loans['FranchiseCode'] > 1), 'IsFranchise'] = 1"
   ]
  },
  {
   "cell_type": "code",
   "execution_count": 18,
   "metadata": {},
   "outputs": [
    {
     "name": "stderr",
     "output_type": "stream",
     "text": [
      "C:\\Users\\juliu\\AppData\\Local\\Temp\\ipykernel_30276\\3596729647.py:4: UserWarning: Could not infer format, so each element will be parsed individually, falling back to `dateutil`. To ensure parsing is consistent and as-expected, please specify a format.\n",
      "  loans[['ApprovalDate', 'DisbursementDate']] = loans[['ApprovalDate', 'DisbursementDate']].apply(pd.to_datetime)\n",
      "C:\\Users\\juliu\\AppData\\Local\\Temp\\ipykernel_30276\\3596729647.py:4: UserWarning: Could not infer format, so each element will be parsed individually, falling back to `dateutil`. To ensure parsing is consistent and as-expected, please specify a format.\n",
      "  loans[['ApprovalDate', 'DisbursementDate']] = loans[['ApprovalDate', 'DisbursementDate']].apply(pd.to_datetime)\n"
     ]
    }
   ],
   "source": [
    "# Convert ApprovalDate and DisbursementDate columns to datetime values\n",
    "# ChgOffDate not changed to datetime since it is not relevant to the analysis since it only states when the approval is charged off and will be removed later\n",
    "\n",
    "loans[['ApprovalDate', 'DisbursementDate']] = loans[['ApprovalDate', 'DisbursementDate']].apply(pd.to_datetime)"
   ]
  },
  {
   "cell_type": "code",
   "execution_count": 19,
   "metadata": {},
   "outputs": [
    {
     "name": "stdout",
     "output_type": "stream",
     "text": [
      "  ApprovalDate DisbursementDate\n",
      "0   1997-02-28       1999-02-28\n",
      "1   1997-02-28       1997-05-31\n",
      "2   1997-02-28       1997-12-31\n",
      "5   1997-02-28       1997-06-30\n",
      "7   1997-02-28       1998-06-30\n"
     ]
    }
   ],
   "source": [
    "print(loans[['ApprovalDate', 'DisbursementDate']].head())"
   ]
  },
  {
   "cell_type": "code",
   "execution_count": 20,
   "metadata": {},
   "outputs": [],
   "source": [
    "# Create DaysToDisbursement column calculating days between DisbursementDate and ApprovalDate\n",
    "loans['DaysToDisbursement'] = (loans['DisbursementDate'] - loans['ApprovalDate']).dt.days\n",
    "\n",
    "# Convert DaysToDisbursement to int64 dtype\n",
    "loans['DaysToDisbursement'] = loans['DaysToDisbursement'].astype('int64')\n",
    "\n",
    "# Create DisbursementMonth & DisbursementYear field for time analysis later (Great Recession categorizing)\n",
    "loans['DisbursementMonth'] = loans['DisbursementDate'].map(lambda x: x.month)\n",
    "loans['DisbursementYear'] = loans['DisbursementDate'].map(lambda x: x.year)"
   ]
  },
  {
   "cell_type": "code",
   "execution_count": 21,
   "metadata": {},
   "outputs": [],
   "source": [
    "# Create StateSame flag field which identifies where the business State is the same as the BankState\n",
    "loans['StateSame'] = np.where(loans['State'] == loans['BankState'], 1, 0)"
   ]
  },
  {
   "cell_type": "code",
   "execution_count": 22,
   "metadata": {},
   "outputs": [],
   "source": [
    "# Percent = SBA_Appv / GrAppv\n",
    "\n",
    "loans['SBA_AppvPercent'] = loans['SBA_Appv'] / loans['GrAppv']"
   ]
  },
  {
   "cell_type": "code",
   "execution_count": 23,
   "metadata": {},
   "outputs": [],
   "source": [
    "# Create AppvDisbursed flag field signifying if the loan amount disbursed was equal to the full amount approved\n",
    "loans['AppvDisbursed'] = np.where(loans['DisbursementGross'] == loans['GrAppv'], 1, 0)"
   ]
  },
  {
   "cell_type": "code",
   "execution_count": 24,
   "metadata": {},
   "outputs": [],
   "source": [
    "# Field for loans backed by Real Estate (loans with a term of at least 20 years)\n",
    "loans['RealEstate'] = np.where(loans['Term'] >= 240, 1, 0)\n",
    "\n",
    "\n",
    "# Column for loans through economic recession\n",
    "loans['GreatRecession'] = np.where(\n",
    "    (\n",
    "        (loans['DisbursementYear'] == 2007) & (loans['DisbursementMonth'] >= 12) |\n",
    "        (loans['DisbursementYear'] == 2008) |\n",
    "        (loans['DisbursementYear'] == 2009) & (loans['DisbursementMonth'] <= 6)\n",
    "    ),\n",
    "    1,0)"
   ]
  },
  {
   "cell_type": "code",
   "execution_count": 25,
   "metadata": {},
   "outputs": [],
   "source": [
    "loans = loans.astype({\n",
    "    'IsFranchise': 'int64',\n",
    "    'NewBusiness': 'int64',\n",
    "    'RevLineCr': 'int64',\n",
    "    'LowDoc': 'int64'\n",
    "    })"
   ]
  },
  {
   "cell_type": "code",
   "execution_count": 26,
   "metadata": {},
   "outputs": [],
   "source": [
    "# Create a new `Default` column to represent MIS_Status where P I F = 0 and CHGOFF = 1\n",
    "loans['Default'] = np.where(loans['MIS_Status'] == 'P I F', 0, 1)"
   ]
  },
  {
   "cell_type": "code",
   "execution_count": 27,
   "metadata": {},
   "outputs": [
    {
     "name": "stdout",
     "output_type": "stream",
     "text": [
      "<class 'pandas.core.frame.DataFrame'>\n",
      "Index: 456940 entries, 0 to 899161\n",
      "Data columns (total 40 columns):\n",
      " #   Column              Non-Null Count   Dtype         \n",
      "---  ------              --------------   -----         \n",
      " 0   LoanNr_ChkDgt       456940 non-null  int64         \n",
      " 1   Name                456940 non-null  object        \n",
      " 2   City                456940 non-null  object        \n",
      " 3   State               456940 non-null  object        \n",
      " 4   Zip                 456940 non-null  object        \n",
      " 5   Bank                456940 non-null  object        \n",
      " 6   BankState           456940 non-null  object        \n",
      " 7   NAICS               456940 non-null  int64         \n",
      " 8   ApprovalDate        456940 non-null  datetime64[ns]\n",
      " 9   ApprovalFY          456940 non-null  int64         \n",
      " 10  Term                456940 non-null  int64         \n",
      " 11  NoEmp               456940 non-null  int64         \n",
      " 12  NewExist            456940 non-null  int64         \n",
      " 13  CreateJob           456940 non-null  int64         \n",
      " 14  RetainedJob         456940 non-null  int64         \n",
      " 15  FranchiseCode       456940 non-null  int64         \n",
      " 16  UrbanRural          456940 non-null  object        \n",
      " 17  RevLineCr           456940 non-null  int64         \n",
      " 18  LowDoc              456940 non-null  int64         \n",
      " 19  ChgOffDate          101177 non-null  object        \n",
      " 20  DisbursementDate    456940 non-null  datetime64[ns]\n",
      " 21  DisbursementGross   456940 non-null  float64       \n",
      " 22  BalanceGross        456940 non-null  float64       \n",
      " 23  MIS_Status          456940 non-null  object        \n",
      " 24  ChgOffPrinGr        456940 non-null  float64       \n",
      " 25  GrAppv              456940 non-null  float64       \n",
      " 26  SBA_Appv            456940 non-null  float64       \n",
      " 27  Industry            456940 non-null  object        \n",
      " 28  IndustryCode        456940 non-null  object        \n",
      " 29  NewBusiness         456940 non-null  int64         \n",
      " 30  IsFranchise         456940 non-null  int64         \n",
      " 31  DaysToDisbursement  456940 non-null  int64         \n",
      " 32  DisbursementMonth   456940 non-null  int64         \n",
      " 33  DisbursementYear    456940 non-null  int64         \n",
      " 34  StateSame           456940 non-null  int32         \n",
      " 35  SBA_AppvPercent     456940 non-null  float64       \n",
      " 36  AppvDisbursed       456940 non-null  int32         \n",
      " 37  RealEstate          456940 non-null  int32         \n",
      " 38  GreatRecession      456940 non-null  int32         \n",
      " 39  Default             456940 non-null  int32         \n",
      "dtypes: datetime64[ns](2), float64(6), int32(5), int64(16), object(11)\n",
      "memory usage: 134.2+ MB\n"
     ]
    }
   ],
   "source": [
    "loans.info()"
   ]
  },
  {
   "cell_type": "markdown",
   "metadata": {},
   "source": [
    "# Preprocessing"
   ]
  },
  {
   "cell_type": "code",
   "execution_count": 28,
   "metadata": {},
   "outputs": [],
   "source": [
    "# Copy data for model\n",
    "\n",
    "loans_model_df = loans.copy()"
   ]
  },
  {
   "cell_type": "code",
   "execution_count": 29,
   "metadata": {},
   "outputs": [],
   "source": [
    "state_mapping = {state: idx for idx, state in enumerate([\n",
    "    'IN', 'OK', 'FL', 'CT', 'NJ', 'NC', 'IL', 'RI', 'TX', 'VA',\n",
    "    'TN', 'AR', 'MN', 'MO', 'MA', 'CA', 'SC', 'LA', 'IA', 'OH',\n",
    "    'KY', 'MS', 'NY', 'MD', 'PA', 'OR', 'ME', 'KS', 'MI', 'AK',\n",
    "    'WA', 'CO', 'MT', 'WY', 'UT', 'NH', 'WV', 'ID', 'AZ', 'NV',\n",
    "    'WI', 'NM', 'GA', 'ND', 'VT', 'AL', 'NE', 'SD', 'HI', 'DE', 'DC'\n",
    "])}\n",
    "\n",
    "bank_state_mapping = {state: idx for idx, state in enumerate([\n",
    "    'OH', 'IN', 'OK', 'FL', 'DE', 'SD', 'AL', 'CT', 'GA', 'OR', 'MN', 'RI', 'NC', 'TX',\n",
    "    'MD', 'NY', 'TN', 'SC', 'MS', 'MA', 'LA', 'IA', 'VA', 'CA', 'IL', 'KY', 'PA', 'MO',\n",
    "    'WA', 'MI', 'UT', 'KS', 'WV', 'WI', 'AZ', 'NJ', 'CO', 'ME', 'NH', 'AR', 'ND', 'MT',\n",
    "    'ID', 'WY', 'NM', 'DC', 'NV', 'NE', 'PR', 'HI', 'VT', 'AK', 'GU', 'AN', 'EN', 'VI'\n",
    "  ])}"
   ]
  },
  {
   "cell_type": "code",
   "execution_count": 30,
   "metadata": {},
   "outputs": [],
   "source": [
    "# Drop respected columns\n",
    "\n",
    "loans_model_df.drop(columns=['LoanNr_ChkDgt', 'ChgOffDate', 'Name', 'City', 'Zip', 'Bank', 'NAICS', 'MIS_Status', 'NewExist', 'FranchiseCode',\n",
    "                      'ApprovalDate', 'DisbursementDate'], inplace=True)"
   ]
  },
  {
   "cell_type": "code",
   "execution_count": 31,
   "metadata": {},
   "outputs": [],
   "source": [
    "# Encoding like base model encoding\n",
    "\n",
    "loans_model_df['State'] = loans_model_df['State'].map(state_mapping)\n",
    "loans_model_df['BankState'] = loans_model_df['BankState'].map(bank_state_mapping)"
   ]
  },
  {
   "cell_type": "code",
   "execution_count": 32,
   "metadata": {},
   "outputs": [],
   "source": [
    "loans_model_df = loans_model_df.astype({\n",
    "    'IndustryCode' : 'int64',\n",
    "    'UrbanRural': 'int64'\n",
    "    })"
   ]
  },
  {
   "cell_type": "markdown",
   "metadata": {},
   "source": [
    "# MLOPS Prep"
   ]
  },
  {
   "cell_type": "code",
   "execution_count": 33,
   "metadata": {},
   "outputs": [],
   "source": [
    "loans_model_df.drop(columns=['Industry'], inplace=True)"
   ]
  },
  {
   "cell_type": "code",
   "execution_count": 34,
   "metadata": {},
   "outputs": [
    {
     "name": "stdout",
     "output_type": "stream",
     "text": [
      "<class 'pandas.core.frame.DataFrame'>\n",
      "Index: 456940 entries, 0 to 899161\n",
      "Data columns (total 27 columns):\n",
      " #   Column              Non-Null Count   Dtype  \n",
      "---  ------              --------------   -----  \n",
      " 0   State               456940 non-null  int64  \n",
      " 1   BankState           456940 non-null  int64  \n",
      " 2   ApprovalFY          456940 non-null  int64  \n",
      " 3   Term                456940 non-null  int64  \n",
      " 4   NoEmp               456940 non-null  int64  \n",
      " 5   CreateJob           456940 non-null  int64  \n",
      " 6   RetainedJob         456940 non-null  int64  \n",
      " 7   UrbanRural          456940 non-null  int64  \n",
      " 8   RevLineCr           456940 non-null  int64  \n",
      " 9   LowDoc              456940 non-null  int64  \n",
      " 10  DisbursementGross   456940 non-null  float64\n",
      " 11  BalanceGross        456940 non-null  float64\n",
      " 12  ChgOffPrinGr        456940 non-null  float64\n",
      " 13  GrAppv              456940 non-null  float64\n",
      " 14  SBA_Appv            456940 non-null  float64\n",
      " 15  IndustryCode        456940 non-null  int64  \n",
      " 16  NewBusiness         456940 non-null  int64  \n",
      " 17  IsFranchise         456940 non-null  int64  \n",
      " 18  DaysToDisbursement  456940 non-null  int64  \n",
      " 19  DisbursementMonth   456940 non-null  int64  \n",
      " 20  DisbursementYear    456940 non-null  int64  \n",
      " 21  StateSame           456940 non-null  int32  \n",
      " 22  SBA_AppvPercent     456940 non-null  float64\n",
      " 23  AppvDisbursed       456940 non-null  int32  \n",
      " 24  RealEstate          456940 non-null  int32  \n",
      " 25  GreatRecession      456940 non-null  int32  \n",
      " 26  Default             456940 non-null  int32  \n",
      "dtypes: float64(6), int32(5), int64(16)\n",
      "memory usage: 88.9 MB\n"
     ]
    }
   ],
   "source": [
    "loans_model_df.info()"
   ]
  },
  {
   "cell_type": "code",
   "execution_count": 35,
   "metadata": {},
   "outputs": [
    {
     "data": {
      "text/plain": [
       "Index(['State', 'BankState', 'ApprovalFY', 'Term', 'NoEmp', 'CreateJob',\n",
       "       'RetainedJob', 'UrbanRural', 'RevLineCr', 'LowDoc', 'DisbursementGross',\n",
       "       'BalanceGross', 'ChgOffPrinGr', 'GrAppv', 'SBA_Appv', 'IndustryCode',\n",
       "       'NewBusiness', 'IsFranchise', 'DaysToDisbursement', 'DisbursementMonth',\n",
       "       'DisbursementYear', 'StateSame', 'SBA_AppvPercent', 'AppvDisbursed',\n",
       "       'RealEstate', 'GreatRecession', 'Default'],\n",
       "      dtype='object')"
      ]
     },
     "execution_count": 35,
     "metadata": {},
     "output_type": "execute_result"
    }
   ],
   "source": [
    "loans_model_df.columns"
   ]
  },
  {
   "cell_type": "code",
   "execution_count": 36,
   "metadata": {},
   "outputs": [],
   "source": [
    "from dataclasses import dataclass\n",
    "from pathlib import Path\n",
    "\n",
    "@dataclass(frozen=True)\n",
    "class DataValidationConfig:\n",
    "    root_dir: Path\n",
    "    STATUS_FILE: str\n",
    "    unzip_data_dir: Path\n",
    "    all_schema: dict"
   ]
  },
  {
   "cell_type": "code",
   "execution_count": 37,
   "metadata": {},
   "outputs": [],
   "source": [
    "from src.loanDefault.constants import *\n",
    "from src.loanDefault.utils.common import read_yaml, create_directories"
   ]
  },
  {
   "cell_type": "code",
   "execution_count": 38,
   "metadata": {},
   "outputs": [],
   "source": [
    "class ConfigurationManager:\n",
    "    def __init__(\n",
    "        self,\n",
    "        config_filepath = CONFIG_FILE_PATH,\n",
    "        params_filepath = PARAMS_FILE_PATH,\n",
    "        schema_filepath = SCHEMA_FILE_PATH):\n",
    "\n",
    "        self.config = read_yaml(config_filepath)\n",
    "        self.params = read_yaml(params_filepath)\n",
    "        self.schema = read_yaml(schema_filepath)\n",
    "\n",
    "        create_directories([self.config.artifacts_root])\n",
    "\n",
    "\n",
    "    \n",
    "    def get_data_validation_config(self) -> DataValidationConfig:\n",
    "        config = self.config.data_validation\n",
    "        schema = self.schema.COLUMNS\n",
    "\n",
    "        create_directories([config.root_dir])\n",
    "\n",
    "        data_validation_config = DataValidationConfig(\n",
    "            root_dir=config.root_dir,\n",
    "            STATUS_FILE=config.STATUS_FILE,\n",
    "            unzip_data_dir = config.unzip_data_dir,\n",
    "            all_schema=schema,\n",
    "        )\n",
    "\n",
    "        return data_validation_config"
   ]
  },
  {
   "cell_type": "code",
   "execution_count": 39,
   "metadata": {},
   "outputs": [],
   "source": [
    "import os\n",
    "from src.loanDefault import logger"
   ]
  },
  {
   "cell_type": "code",
   "execution_count": 40,
   "metadata": {},
   "outputs": [],
   "source": [
    "class DataValiadtion:\n",
    "    def __init__(self, config: DataValidationConfig):\n",
    "        self.config = config\n",
    "\n",
    "\n",
    "    def validate_all_columns(self)-> bool:\n",
    "        try:\n",
    "            validation_status = None\n",
    "\n",
    "            data = pd.read_csv(self.config.unzip_data_dir)\n",
    "            all_cols = list(data.columns)\n",
    "\n",
    "            all_schema = self.config.all_schema.keys()\n",
    "\n",
    "            \n",
    "            for col in all_cols:\n",
    "                if col not in all_schema:\n",
    "                    validation_status = False\n",
    "                    with open(self.config.STATUS_FILE, 'w') as f:\n",
    "                        f.write(f\"Validation status: {validation_status}\")\n",
    "                else:\n",
    "                    validation_status = True\n",
    "                    with open(self.config.STATUS_FILE, 'w') as f:\n",
    "                        f.write(f\"Validation status: {validation_status}\")\n",
    "\n",
    "            return validation_status\n",
    "        \n",
    "        except Exception as e:\n",
    "            raise e\n",
    "\n"
   ]
  },
  {
   "cell_type": "code",
   "execution_count": 41,
   "metadata": {},
   "outputs": [
    {
     "name": "stdout",
     "output_type": "stream",
     "text": [
      "[2024-10-01 20:16:27,779: INFO: common: yaml file: config\\config.yaml loaded successfully]\n",
      "[2024-10-01 20:16:27,783: INFO: common: yaml file: params.yaml loaded successfully]\n",
      "[2024-10-01 20:16:27,787: INFO: common: yaml file: schema.yaml loaded successfully]\n",
      "[2024-10-01 20:16:27,789: INFO: common: created directory at: artifacts]\n",
      "[2024-10-01 20:16:27,790: INFO: common: created directory at: artifacts/data_validation]\n"
     ]
    },
    {
     "name": "stderr",
     "output_type": "stream",
     "text": [
      "C:\\Users\\juliu\\AppData\\Local\\Temp\\ipykernel_30276\\63668955.py:10: DtypeWarning: Columns (9) have mixed types. Specify dtype option on import or set low_memory=False.\n",
      "  data = pd.read_csv(self.config.unzip_data_dir)\n"
     ]
    }
   ],
   "source": [
    "try:\n",
    "    config = ConfigurationManager()\n",
    "    data_validation_config = config.get_data_validation_config()\n",
    "    data_validation = DataValiadtion(config=data_validation_config)\n",
    "    data_validation.validate_all_columns()\n",
    "except Exception as e:\n",
    "    raise e"
   ]
  }
 ],
 "metadata": {
  "kernelspec": {
   "display_name": "Python 3",
   "language": "python",
   "name": "python3"
  },
  "language_info": {
   "codemirror_mode": {
    "name": "ipython",
    "version": 3
   },
   "file_extension": ".py",
   "mimetype": "text/x-python",
   "name": "python",
   "nbconvert_exporter": "python",
   "pygments_lexer": "ipython3",
   "version": "3.12.6"
  }
 },
 "nbformat": 4,
 "nbformat_minor": 2
}
